{
 "cells": [
  {
   "cell_type": "markdown",
   "metadata": {},
   "source": [
    "# Postprocess SWAT Simulations with SQLite and Pandas (1) - Runoff"
   ]
  },
  {
   "cell_type": "markdown",
   "metadata": {},
   "source": [
    "[SQL](https://en.wikipedia.org/wiki/SQL) is a domain-specific language used in programming and designed for managing data held in a relational database management system (RDBMS), or for stream processing in a relational data stream management system (RDSMS). It is particularly useful in handling structured data where there are relations between different entities/variables of the data. SQL was also a go-to tool when you needed to get a quick-and-dirty look at some data, and draw preliminary conclusions that might, eventually, lead to a report or an application being written.\n",
    "\n",
    "[SQLite](https://www.sqlite.org/about.html) is an in-process library that implements a self-contained, serverless, zero-configuration, transactional SQL database engine.SQLite is the most widely deployed database in the world with more applications than we can count. It is great that SQLite understands most of the standard SQL language. Most programming languages and environments have good support for working with SQLite databases. Python is no exception, and a library to access SQLite databases, called sqlite3.\n",
    "\n",
    "In this notebook, we will walk through how to use sqlite3 to query databases. We'll also cover how to simplify working with SQLite databases using the pandas package. As mentioned in the tutorial of [A Toolchain for Training Hydrological Modeling under Climate Change based on SWAT](https://www.linkedin.com/pulse/toolchain-training-hydrological-modeling-under-climate-chonghua-yin/), we know that SWAT simulations are managed by the tool of [SWAT Output Viewer](https://swatviewer.com/), which stores all data in SQLite databases. Now we take the runoff data in these databases as an example.\n",
    "\n",
    "*It is worth noting that all data in this series are fake data and only are used to show how to postprocess SWAT simulations through open source tools.*"
   ]
  },
  {
   "cell_type": "markdown",
   "metadata": {},
   "source": [
    "## 1. Load all needed libraries"
   ]
  },
  {
   "cell_type": "code",
   "execution_count": 1,
   "metadata": {},
   "outputs": [],
   "source": [
    "import pandas as pd\n",
    "import sqlite3\n",
    "import matplotlib.pyplot as plt\n",
    "import matplotlib\n",
    "%matplotlib inline"
   ]
  },
  {
   "cell_type": "markdown",
   "metadata": {},
   "source": [
    "## 2. Use pandas to read SQLite database"
   ]
  },
  {
   "cell_type": "markdown",
   "metadata": {},
   "source": [
    "### 2.1 Create a db connection"
   ]
  },
  {
   "cell_type": "code",
   "execution_count": 2,
   "metadata": {},
   "outputs": [],
   "source": [
    "con = sqlite3.connect('data\\\\baseline\\\\result_664_monthly.db3')\n",
    "cursor = con.cursor()"
   ]
  },
  {
   "cell_type": "markdown",
   "metadata": {},
   "source": [
    "### 2.2 Check table names\n",
    "\n",
    "Here we take the **RCH** table as an example"
   ]
  },
  {
   "cell_type": "code",
   "execution_count": 3,
   "metadata": {},
   "outputs": [
    {
     "name": "stdout",
     "output_type": "stream",
     "text": [
      "[(u'rch',), (u'hru',), (u'sub',), (u'sed',), (u'watershed_daily',), (u'watershed_monthly',), (u'watershed_yearly',), (u'channel_dimension',), (u'hru_info',), (u'sub_info',), (u'rch_info',), (u'ave_plant',), (u'ave_annual_hru',), (u'ave_monthly_basin',), (u'ave_annual_basin',)]\n"
     ]
    }
   ],
   "source": [
    "cursor.execute(\"SELECT name FROM sqlite_master WHERE type='table';\")\n",
    "print(cursor.fetchall())"
   ]
  },
  {
   "cell_type": "markdown",
   "metadata": {},
   "source": [
    "### 2.3 Check columns of the RCH table"
   ]
  },
  {
   "cell_type": "code",
   "execution_count": 4,
   "metadata": {},
   "outputs": [],
   "source": [
    "def table_columns(db, table_name):\n",
    "    curs = db.cursor()\n",
    "    sql = \"select * from %s where 1=0;\" % table_name\n",
    "    curs.execute(sql)\n",
    "    return [d[0] for d in curs.description]"
   ]
  },
  {
   "cell_type": "code",
   "execution_count": 5,
   "metadata": {},
   "outputs": [
    {
     "data": {
      "text/plain": [
       "['RCH',\n",
       " 'YR',\n",
       " 'MO',\n",
       " 'FLOW_INcms',\n",
       " 'FLOW_OUTcms',\n",
       " 'EVAPcms',\n",
       " 'TLOSScms',\n",
       " 'SED_INtons',\n",
       " 'SED_OUTtons',\n",
       " 'SEDCONCmg_kg',\n",
       " 'ORGN_INkg',\n",
       " 'ORGN_OUTkg',\n",
       " 'ORGP_INkg',\n",
       " 'ORGP_OUTkg',\n",
       " 'NO3_INkg',\n",
       " 'NO3_OUTkg',\n",
       " 'NH4_INkg',\n",
       " 'NH4_OUTkg',\n",
       " 'NO2_INkg',\n",
       " 'NO2_OUTkg',\n",
       " 'MINP_INkg',\n",
       " 'MINP_OUTkg',\n",
       " 'CHLA_INkg',\n",
       " 'CHLA_OUTkg',\n",
       " 'CBOD_INkg',\n",
       " 'CBOD_OUTkg',\n",
       " 'DISOX_INkg',\n",
       " 'DISOX_OUTkg',\n",
       " 'SOLPST_INmg',\n",
       " 'SOLPST_OUTmg',\n",
       " 'SORPST_INmg',\n",
       " 'SORPST_OUTmg',\n",
       " 'REACTPSTmg',\n",
       " 'VOLPSTmg',\n",
       " 'SETTLPSTmg',\n",
       " 'RESUSP_PSTmg',\n",
       " 'DIFFUSEPSTmg',\n",
       " 'REACBEDPSTmg',\n",
       " 'BURYPSTmg',\n",
       " 'BED_PSTmg',\n",
       " 'BACTP_OUTct',\n",
       " 'BACTLP_OUTct',\n",
       " 'CMETAL_1kg',\n",
       " 'CMETAL_2kg',\n",
       " 'CMETAL_3kg',\n",
       " 'TOT_Nkg',\n",
       " 'TOT_Pkg',\n",
       " 'NO3ConcMg_l',\n",
       " 'WTMPdegc']"
      ]
     },
     "execution_count": 5,
     "metadata": {},
     "output_type": "execute_result"
    }
   ],
   "source": [
    "table_columns(con, 'rch')"
   ]
  },
  {
   "cell_type": "markdown",
   "metadata": {},
   "source": [
    "### 2.4 Read specified columns of RCH table inot a pandas DataFrame\n",
    "e.g., Reach ID, Year, Month and Flow-out"
   ]
  },
  {
   "cell_type": "code",
   "execution_count": 6,
   "metadata": {},
   "outputs": [
    {
     "name": "stdout",
     "output_type": "stream",
     "text": [
      "    RCH    YR  FLOW_OUTcms\n",
      "MO                        \n",
      "1     1  1981   146.252487\n",
      "1     2  1981    96.182854\n",
      "1     3  1981    11.861368\n",
      "1     4  1981    49.406513\n",
      "1     5  1981   272.106018\n",
      "1     6  1981   486.318573\n",
      "1     7  1981    23.289026\n",
      "1     8  1981   214.281433\n",
      "1     9  1981   193.491211\n",
      "1    10  1981    53.856945\n"
     ]
    }
   ],
   "source": [
    "df = pd.read_sql_query(\"SELECT RCH, YR, MO, FLOW_OUTcms from rch\", con)\n",
    "df = df.set_index(['MO'])\n",
    "print(df.head(10))"
   ]
  },
  {
   "cell_type": "markdown",
   "metadata": {},
   "source": [
    "### 2.5 Finally, do not forget to close the db connection"
   ]
  },
  {
   "cell_type": "code",
   "execution_count": 7,
   "metadata": {},
   "outputs": [],
   "source": [
    "con.close()"
   ]
  },
  {
   "cell_type": "markdown",
   "metadata": {},
   "source": [
    "## 3. Further process flow data with pandas"
   ]
  },
  {
   "cell_type": "markdown",
   "metadata": {},
   "source": [
    "### 3.1 Custom quarters definition"
   ]
  },
  {
   "cell_type": "code",
   "execution_count": 8,
   "metadata": {},
   "outputs": [],
   "source": [
    "quarters = {1: 'DJF', 2: 'DJF', 3: 'MAM', 4: 'MAM', 5: 'MAM', 6: 'JJA',\n",
    "            7: 'JJA', 8: 'JJA', 9: 'SON', 10: 'SON', 11: 'SON', 12: 'DJF'}"
   ]
  },
  {
   "cell_type": "markdown",
   "metadata": {},
   "source": [
    "### 3.2 Carry out seasonal statistics for each reach"
   ]
  },
  {
   "cell_type": "code",
   "execution_count": 9,
   "metadata": {},
   "outputs": [
    {
     "data": {
      "text/plain": [
       "RCH     \n",
       "1    DJF      99.204991\n",
       "     JJA    1405.262298\n",
       "     MAM     559.746932\n",
       "     SON     454.737985\n",
       "2    DJF      56.328539\n",
       "Name: FLOW_OUTcms, dtype: float64"
      ]
     },
     "execution_count": 9,
     "metadata": {},
     "output_type": "execute_result"
    }
   ],
   "source": [
    "ssndf = df.groupby(['RCH',quarters])['FLOW_OUTcms'].mean()\n",
    "ssndf.head(5)"
   ]
  },
  {
   "cell_type": "code",
   "execution_count": 10,
   "metadata": {},
   "outputs": [
    {
     "data": {
      "text/html": [
       "<div>\n",
       "<style scoped>\n",
       "    .dataframe tbody tr th:only-of-type {\n",
       "        vertical-align: middle;\n",
       "    }\n",
       "\n",
       "    .dataframe tbody tr th {\n",
       "        vertical-align: top;\n",
       "    }\n",
       "\n",
       "    .dataframe thead th {\n",
       "        text-align: right;\n",
       "    }\n",
       "</style>\n",
       "<table border=\"1\" class=\"dataframe\">\n",
       "  <thead>\n",
       "    <tr style=\"text-align: right;\">\n",
       "      <th></th>\n",
       "      <th>RCH</th>\n",
       "      <th>level_1</th>\n",
       "      <th>FLOW_OUTcms</th>\n",
       "    </tr>\n",
       "  </thead>\n",
       "  <tbody>\n",
       "    <tr>\n",
       "      <th>0</th>\n",
       "      <td>1</td>\n",
       "      <td>DJF</td>\n",
       "      <td>99.204991</td>\n",
       "    </tr>\n",
       "    <tr>\n",
       "      <th>1</th>\n",
       "      <td>1</td>\n",
       "      <td>JJA</td>\n",
       "      <td>1405.262298</td>\n",
       "    </tr>\n",
       "    <tr>\n",
       "      <th>2</th>\n",
       "      <td>1</td>\n",
       "      <td>MAM</td>\n",
       "      <td>559.746932</td>\n",
       "    </tr>\n",
       "    <tr>\n",
       "      <th>3</th>\n",
       "      <td>1</td>\n",
       "      <td>SON</td>\n",
       "      <td>454.737985</td>\n",
       "    </tr>\n",
       "    <tr>\n",
       "      <th>4</th>\n",
       "      <td>2</td>\n",
       "      <td>DJF</td>\n",
       "      <td>56.328539</td>\n",
       "    </tr>\n",
       "  </tbody>\n",
       "</table>\n",
       "</div>"
      ],
      "text/plain": [
       "   RCH level_1  FLOW_OUTcms\n",
       "0    1     DJF    99.204991\n",
       "1    1     JJA  1405.262298\n",
       "2    1     MAM   559.746932\n",
       "3    1     SON   454.737985\n",
       "4    2     DJF    56.328539"
      ]
     },
     "execution_count": 10,
     "metadata": {},
     "output_type": "execute_result"
    }
   ],
   "source": [
    "ssndf = ssndf.reset_index()\n",
    "ssndf.set_index(['RCH'])\n",
    "ssndf.head(5)"
   ]
  },
  {
   "cell_type": "code",
   "execution_count": 11,
   "metadata": {},
   "outputs": [
    {
     "data": {
      "text/html": [
       "<div>\n",
       "<style scoped>\n",
       "    .dataframe tbody tr th:only-of-type {\n",
       "        vertical-align: middle;\n",
       "    }\n",
       "\n",
       "    .dataframe tbody tr th {\n",
       "        vertical-align: top;\n",
       "    }\n",
       "\n",
       "    .dataframe thead th {\n",
       "        text-align: right;\n",
       "    }\n",
       "</style>\n",
       "<table border=\"1\" class=\"dataframe\">\n",
       "  <thead>\n",
       "    <tr style=\"text-align: right;\">\n",
       "      <th></th>\n",
       "      <th>RCH</th>\n",
       "      <th>SSN</th>\n",
       "      <th>FLOW_OUTcms</th>\n",
       "    </tr>\n",
       "  </thead>\n",
       "  <tbody>\n",
       "    <tr>\n",
       "      <th>0</th>\n",
       "      <td>1</td>\n",
       "      <td>DJF</td>\n",
       "      <td>99.204991</td>\n",
       "    </tr>\n",
       "    <tr>\n",
       "      <th>1</th>\n",
       "      <td>1</td>\n",
       "      <td>JJA</td>\n",
       "      <td>1405.262298</td>\n",
       "    </tr>\n",
       "    <tr>\n",
       "      <th>2</th>\n",
       "      <td>1</td>\n",
       "      <td>MAM</td>\n",
       "      <td>559.746932</td>\n",
       "    </tr>\n",
       "    <tr>\n",
       "      <th>3</th>\n",
       "      <td>1</td>\n",
       "      <td>SON</td>\n",
       "      <td>454.737985</td>\n",
       "    </tr>\n",
       "    <tr>\n",
       "      <th>4</th>\n",
       "      <td>2</td>\n",
       "      <td>DJF</td>\n",
       "      <td>56.328539</td>\n",
       "    </tr>\n",
       "  </tbody>\n",
       "</table>\n",
       "</div>"
      ],
      "text/plain": [
       "   RCH  SSN  FLOW_OUTcms\n",
       "0    1  DJF    99.204991\n",
       "1    1  JJA  1405.262298\n",
       "2    1  MAM   559.746932\n",
       "3    1  SON   454.737985\n",
       "4    2  DJF    56.328539"
      ]
     },
     "execution_count": 11,
     "metadata": {},
     "output_type": "execute_result"
    }
   ],
   "source": [
    "ssndf = ssndf.rename(index=str, columns={\"level_1\":\"SSN\"})\n",
    "ssndf.head(5)"
   ]
  },
  {
   "cell_type": "code",
   "execution_count": 12,
   "metadata": {},
   "outputs": [
    {
     "data": {
      "text/html": [
       "<div>\n",
       "<style scoped>\n",
       "    .dataframe tbody tr th:only-of-type {\n",
       "        vertical-align: middle;\n",
       "    }\n",
       "\n",
       "    .dataframe tbody tr th {\n",
       "        vertical-align: top;\n",
       "    }\n",
       "\n",
       "    .dataframe thead th {\n",
       "        text-align: right;\n",
       "    }\n",
       "</style>\n",
       "<table border=\"1\" class=\"dataframe\">\n",
       "  <thead>\n",
       "    <tr style=\"text-align: right;\">\n",
       "      <th>SSN</th>\n",
       "      <th>DJF</th>\n",
       "      <th>JJA</th>\n",
       "      <th>MAM</th>\n",
       "      <th>SON</th>\n",
       "    </tr>\n",
       "    <tr>\n",
       "      <th>RCH</th>\n",
       "      <th></th>\n",
       "      <th></th>\n",
       "      <th></th>\n",
       "      <th></th>\n",
       "    </tr>\n",
       "  </thead>\n",
       "  <tbody>\n",
       "    <tr>\n",
       "      <th>1</th>\n",
       "      <td>99.204991</td>\n",
       "      <td>1405.262298</td>\n",
       "      <td>559.746932</td>\n",
       "      <td>454.737985</td>\n",
       "    </tr>\n",
       "    <tr>\n",
       "      <th>2</th>\n",
       "      <td>56.328539</td>\n",
       "      <td>773.664280</td>\n",
       "      <td>203.242828</td>\n",
       "      <td>297.934326</td>\n",
       "    </tr>\n",
       "    <tr>\n",
       "      <th>3</th>\n",
       "      <td>32.838328</td>\n",
       "      <td>166.310382</td>\n",
       "      <td>379.771358</td>\n",
       "      <td>27.425488</td>\n",
       "    </tr>\n",
       "    <tr>\n",
       "      <th>4</th>\n",
       "      <td>28.384519</td>\n",
       "      <td>619.184517</td>\n",
       "      <td>278.996801</td>\n",
       "      <td>155.766145</td>\n",
       "    </tr>\n",
       "    <tr>\n",
       "      <th>5</th>\n",
       "      <td>336.824441</td>\n",
       "      <td>1635.518864</td>\n",
       "      <td>1215.423962</td>\n",
       "      <td>499.265579</td>\n",
       "    </tr>\n",
       "  </tbody>\n",
       "</table>\n",
       "</div>"
      ],
      "text/plain": [
       "SSN         DJF          JJA          MAM         SON\n",
       "RCH                                                  \n",
       "1     99.204991  1405.262298   559.746932  454.737985\n",
       "2     56.328539   773.664280   203.242828  297.934326\n",
       "3     32.838328   166.310382   379.771358   27.425488\n",
       "4     28.384519   619.184517   278.996801  155.766145\n",
       "5    336.824441  1635.518864  1215.423962  499.265579"
      ]
     },
     "execution_count": 12,
     "metadata": {},
     "output_type": "execute_result"
    }
   ],
   "source": [
    "pivoted = ssndf.pivot(index='RCH', columns='SSN', values='FLOW_OUTcms')\n",
    "pivoted.head()"
   ]
  },
  {
   "cell_type": "markdown",
   "metadata": {},
   "source": [
    "## 4. Visualize\n",
    "\n",
    "Set some parameters to make figure pretty"
   ]
  },
  {
   "cell_type": "code",
   "execution_count": 13,
   "metadata": {},
   "outputs": [],
   "source": [
    "# Plot size to 15\" x 7\"\n",
    "matplotlib.rc('figure', figsize = (15, 7))\n",
    "# Font size to 14\n",
    "matplotlib.rc('font', size = 14)\n",
    "# Display top and right frame lines\n",
    "matplotlib.rc('axes.spines', top = True, right = True)\n",
    "# Remove grid lines\n",
    "matplotlib.rc('axes', grid = False)\n",
    "# Set backgound color to white\n",
    "matplotlib.rc('axes', facecolor = 'white')"
   ]
  },
  {
   "cell_type": "code",
   "execution_count": 14,
   "metadata": {},
   "outputs": [
    {
     "data": {
      "text/plain": [
       "<matplotlib.axes._subplots.AxesSubplot at 0xc1b3978>"
      ]
     },
     "execution_count": 14,
     "metadata": {},
     "output_type": "execute_result"
    },
    {
     "data": {
      "image/png": "[encoded data removed]",
      "text/plain": [
       "<Figure size 1080x504 with 1 Axes>"
      ]
     },
     "metadata": {},
     "output_type": "display_data"
    }
   ],
   "source": [
    "pivoted.plot(kind='bar', title='Seasonal Mean Discharge from 1981 to 2010 ($m^3/s$)')"
   ]
  },
  {
   "cell_type": "markdown",
   "metadata": {},
   "source": [
    "## References\n",
    "\n",
    "Fernando Pérez and Brian E. Granger. IPython: A System for Interactive Scientific Computing, Computing in Science & Engineering, 9, 21-29 (2007), DOI:10.1109/MCSE.2007.53\n",
    "\n",
    "John D. Hunter. Matplotlib: A 2D Graphics Environment, Computing in Science & Engineering, 9, 90-95 (2007), DOI:10.1109/MCSE.2007.55\n",
    "\n",
    "Wes McKinney. Data Structures for Statistical Computing in Python, Proceedings of the 9th Python in Science Conference, 51-56 (2010)\n",
    "\n",
    "https://www.sqlite.org/lang.html"
   ]
  },
  {
   "cell_type": "code",
   "execution_count": null,
   "metadata": {},
   "outputs": [],
   "source": []
  }
 ],
 "metadata": {
  "anaconda-cloud": {},
  "kernelspec": {
   "display_name": "Python [conda root]",
   "language": "python",
   "name": "conda-root-py"
  },
  "language_info": {
   "codemirror_mode": {
    "name": "ipython",
    "version": 2
   },
   "file_extension": ".py",
   "mimetype": "text/x-python",
   "name": "python",
   "nbconvert_exporter": "python",
   "pygments_lexer": "ipython2",
   "version": "2.7.12"
  }
 },
 "nbformat": 4,
 "nbformat_minor": 2
}
