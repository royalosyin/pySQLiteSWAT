{
 "cells": [
  {
   "cell_type": "markdown",
   "metadata": {},
   "source": [
    "## Postprocess SWAT Simulations (2) - Runoff Change"
   ]
  },
  {
   "cell_type": "markdown",
   "metadata": {},
   "source": [
    "As mentioned in the tutorial of [A Toolchain for Training Hydrological Modeling under Climate Change based on SWAT](https://www.linkedin.com/pulse/toolchain-training-hydrological-modeling-under-climate-chonghua-yin/), we know that the tool of [SWAT Output Viewer](https://swatviewer.com/) is excellent at managing multiple SWAT simulation scenarios through storing all data in SQLite databases.\n",
    "\n",
    "Since we already know how to post-process SWAT simulation by SQLite and Pandas in this [tutorial](https://www.linkedin.com/pulse/postprocess-swat-simulations-sqlite-pandas-1-runoff-chonghua-yin/), it is very easy to calculate seasonal mean runoff changes between different SWAT scenarios, which is a common approach to assess the impacts of climate change on hydrological processes.\n",
    "\n",
    "In this notebook, we put some codes from the [previous one](https://www.linkedin.com/pulse/postprocess-swat-simulations-sqlite-pandas-1-runoff-chonghua-yin/) into functions to simplify to query SQLite databases and calculate seasonal statistics. Even so, it is still better to go through the previous notebook that shows the basic postprocessing procedure step by step.\n",
    "\n",
    "*It is worth noting that all data in this series are fake data and only are used to show how to post-process SWAT simulations through open source tools.*"
   ]
  },
  {
   "cell_type": "markdown",
   "metadata": {},
   "source": [
    "## 1. Load all needed libraries"
   ]
  },
  {
   "cell_type": "code",
   "execution_count": 1,
   "metadata": {},
   "outputs": [],
   "source": [
    "import pandas as pd\n",
    "import sqlite3\n",
    "import matplotlib.pyplot as plt\n",
    "import matplotlib\n",
    "%matplotlib inline"
   ]
  },
  {
   "cell_type": "markdown",
   "metadata": {},
   "source": [
    "## 2. Calculate seasonal mean runoff changes\n",
    "\n",
    "To simplify reading, we put the code into a function. Moreover, we only used the RCH table. "
   ]
  },
  {
   "cell_type": "code",
   "execution_count": 2,
   "metadata": {},
   "outputs": [],
   "source": [
    "def read_rch(db_name):\n",
    "    con = sqlite3.connect(db_name)\n",
    "    cursor = con.cursor()\n",
    "\n",
    "    df = pd.read_sql_query(\"SELECT RCH, YR, MO, FLOW_OUTcms from rch\", con)\n",
    "    df = df.set_index(['MO'])\n",
    "    con.close()\n",
    "    return df"
   ]
  },
  {
   "cell_type": "markdown",
   "metadata": {},
   "source": [
    "In addition, we only care about seasonal changes. Therefore, have to convert monthly data into seasonal means."
   ]
  },
  {
   "cell_type": "code",
   "execution_count": 3,
   "metadata": {},
   "outputs": [],
   "source": [
    "def calculate_ssnmean(df):\n",
    "    quarters = {1: 'DJF', 2: 'DJF', 3: 'MAM', 4: 'MAM', 5: 'MAM', 6: 'JJA',\n",
    "            7: 'JJA', 8: 'JJA', 9: 'SON', 10: 'SON', 11: 'SON', 12: 'DJF'}\n",
    "    ssndf = df.groupby(['RCH',quarters])['FLOW_OUTcms'].mean()\n",
    "    ssndf = ssndf.reset_index()\n",
    "    ssndf.set_index(['RCH'])\n",
    "    ssndf = ssndf.rename(index=str, columns={\"level_1\":\"SSN\"})\n",
    "    pivoted = ssndf.pivot(index='RCH', columns='SSN', values='FLOW_OUTcms')\n",
    "    return pivoted"
   ]
  },
  {
   "cell_type": "markdown",
   "metadata": {},
   "source": [
    "### 2.1 Read Baseline runoff"
   ]
  },
  {
   "cell_type": "code",
   "execution_count": 4,
   "metadata": {},
   "outputs": [
    {
     "data": {
      "text/html": [
       "<div>\n",
       "<style scoped>\n",
       "    .dataframe tbody tr th:only-of-type {\n",
       "        vertical-align: middle;\n",
       "    }\n",
       "\n",
       "    .dataframe tbody tr th {\n",
       "        vertical-align: top;\n",
       "    }\n",
       "\n",
       "    .dataframe thead th {\n",
       "        text-align: right;\n",
       "    }\n",
       "</style>\n",
       "<table border=\"1\" class=\"dataframe\">\n",
       "  <thead>\n",
       "    <tr style=\"text-align: right;\">\n",
       "      <th></th>\n",
       "      <th>RCH</th>\n",
       "      <th>YR</th>\n",
       "      <th>FLOW_OUTcms</th>\n",
       "    </tr>\n",
       "    <tr>\n",
       "      <th>MO</th>\n",
       "      <th></th>\n",
       "      <th></th>\n",
       "      <th></th>\n",
       "    </tr>\n",
       "  </thead>\n",
       "  <tbody>\n",
       "    <tr>\n",
       "      <th>1</th>\n",
       "      <td>1</td>\n",
       "      <td>1981</td>\n",
       "      <td>146.252487</td>\n",
       "    </tr>\n",
       "    <tr>\n",
       "      <th>1</th>\n",
       "      <td>2</td>\n",
       "      <td>1981</td>\n",
       "      <td>96.182854</td>\n",
       "    </tr>\n",
       "    <tr>\n",
       "      <th>1</th>\n",
       "      <td>3</td>\n",
       "      <td>1981</td>\n",
       "      <td>11.861368</td>\n",
       "    </tr>\n",
       "    <tr>\n",
       "      <th>1</th>\n",
       "      <td>4</td>\n",
       "      <td>1981</td>\n",
       "      <td>49.406513</td>\n",
       "    </tr>\n",
       "    <tr>\n",
       "      <th>1</th>\n",
       "      <td>5</td>\n",
       "      <td>1981</td>\n",
       "      <td>272.106018</td>\n",
       "    </tr>\n",
       "  </tbody>\n",
       "</table>\n",
       "</div>"
      ],
      "text/plain": [
       "    RCH    YR  FLOW_OUTcms\n",
       "MO                        \n",
       "1     1  1981   146.252487\n",
       "1     2  1981    96.182854\n",
       "1     3  1981    11.861368\n",
       "1     4  1981    49.406513\n",
       "1     5  1981   272.106018"
      ]
     },
     "execution_count": 4,
     "metadata": {},
     "output_type": "execute_result"
    }
   ],
   "source": [
    "db_name = 'data\\\\baseline\\\\result_664_monthly.db3'\n",
    "df_bsl = read_rch(db_name)\n",
    "df_bsl.head()"
   ]
  },
  {
   "cell_type": "markdown",
   "metadata": {},
   "source": [
    "### 2.2 Read runoff in future"
   ]
  },
  {
   "cell_type": "code",
   "execution_count": 5,
   "metadata": {},
   "outputs": [
    {
     "data": {
      "text/html": [
       "<div>\n",
       "<style scoped>\n",
       "    .dataframe tbody tr th:only-of-type {\n",
       "        vertical-align: middle;\n",
       "    }\n",
       "\n",
       "    .dataframe tbody tr th {\n",
       "        vertical-align: top;\n",
       "    }\n",
       "\n",
       "    .dataframe thead th {\n",
       "        text-align: right;\n",
       "    }\n",
       "</style>\n",
       "<table border=\"1\" class=\"dataframe\">\n",
       "  <thead>\n",
       "    <tr style=\"text-align: right;\">\n",
       "      <th></th>\n",
       "      <th>RCH</th>\n",
       "      <th>YR</th>\n",
       "      <th>FLOW_OUTcms</th>\n",
       "    </tr>\n",
       "    <tr>\n",
       "      <th>MO</th>\n",
       "      <th></th>\n",
       "      <th></th>\n",
       "      <th></th>\n",
       "    </tr>\n",
       "  </thead>\n",
       "  <tbody>\n",
       "    <tr>\n",
       "      <th>1</th>\n",
       "      <td>1</td>\n",
       "      <td>1981</td>\n",
       "      <td>133.313675</td>\n",
       "    </tr>\n",
       "    <tr>\n",
       "      <th>1</th>\n",
       "      <td>2</td>\n",
       "      <td>1981</td>\n",
       "      <td>87.963867</td>\n",
       "    </tr>\n",
       "    <tr>\n",
       "      <th>1</th>\n",
       "      <td>3</td>\n",
       "      <td>1981</td>\n",
       "      <td>8.715598</td>\n",
       "    </tr>\n",
       "    <tr>\n",
       "      <th>1</th>\n",
       "      <td>4</td>\n",
       "      <td>1981</td>\n",
       "      <td>44.826962</td>\n",
       "    </tr>\n",
       "    <tr>\n",
       "      <th>1</th>\n",
       "      <td>5</td>\n",
       "      <td>1981</td>\n",
       "      <td>257.170776</td>\n",
       "    </tr>\n",
       "  </tbody>\n",
       "</table>\n",
       "</div>"
      ],
      "text/plain": [
       "    RCH    YR  FLOW_OUTcms\n",
       "MO                        \n",
       "1     1  1981   133.313675\n",
       "1     2  1981    87.963867\n",
       "1     3  1981     8.715598\n",
       "1     4  1981    44.826962\n",
       "1     5  1981   257.170776"
      ]
     },
     "execution_count": 5,
     "metadata": {},
     "output_type": "execute_result"
    }
   ],
   "source": [
    "db_name = 'data\\\\future\\\\result_664_monthly.db3'\n",
    "df_fut = read_rch(db_name)\n",
    "df_fut.head()"
   ]
  },
  {
   "cell_type": "markdown",
   "metadata": {},
   "source": [
    "### 2.3 Calculate seasonal mean runoff"
   ]
  },
  {
   "cell_type": "code",
   "execution_count": 6,
   "metadata": {},
   "outputs": [
    {
     "name": "stdout",
     "output_type": "stream",
     "text": [
      "SSN         DJF          JJA          MAM         SON\n",
      "RCH                                                  \n",
      "1     87.643939  1347.443983   713.695934  384.962918\n",
      "2     45.715684   762.344993   281.216780  252.879492\n",
      "3     54.120251   148.082089   378.022691   24.557090\n",
      "4     22.645753   577.105851   361.976762  131.144510\n",
      "5    346.533086  1555.323420  1360.550300  426.599176\n",
      "SSN         DJF          JJA          MAM         SON\n",
      "RCH                                                  \n",
      "1     99.204991  1405.262298   559.746932  454.737985\n",
      "2     56.328539   773.664280   203.242828  297.934326\n",
      "3     32.838328   166.310382   379.771358   27.425488\n",
      "4     28.384519   619.184517   278.996801  155.766145\n",
      "5    336.824441  1635.518864  1215.423962  499.265579\n"
     ]
    }
   ],
   "source": [
    "pivoted_bsl = calculate_ssnmean(df_bsl)\n",
    "pivoted_fut = calculate_ssnmean(df_fut)\n",
    "print(pivoted_fut.head())\n",
    "print(pivoted_bsl.head())"
   ]
  },
  {
   "cell_type": "markdown",
   "metadata": {},
   "source": [
    "### 2.4 Calculate seasonal changes"
   ]
  },
  {
   "cell_type": "code",
   "execution_count": 7,
   "metadata": {},
   "outputs": [
    {
     "data": {
      "text/html": [
       "<div>\n",
       "<style scoped>\n",
       "    .dataframe tbody tr th:only-of-type {\n",
       "        vertical-align: middle;\n",
       "    }\n",
       "\n",
       "    .dataframe tbody tr th {\n",
       "        vertical-align: top;\n",
       "    }\n",
       "\n",
       "    .dataframe thead th {\n",
       "        text-align: right;\n",
       "    }\n",
       "</style>\n",
       "<table border=\"1\" class=\"dataframe\">\n",
       "  <thead>\n",
       "    <tr style=\"text-align: right;\">\n",
       "      <th>SSN</th>\n",
       "      <th>DJF</th>\n",
       "      <th>JJA</th>\n",
       "      <th>MAM</th>\n",
       "      <th>SON</th>\n",
       "    </tr>\n",
       "    <tr>\n",
       "      <th>RCH</th>\n",
       "      <th></th>\n",
       "      <th></th>\n",
       "      <th></th>\n",
       "      <th></th>\n",
       "    </tr>\n",
       "  </thead>\n",
       "  <tbody>\n",
       "    <tr>\n",
       "      <th>1</th>\n",
       "      <td>-11.653700</td>\n",
       "      <td>-4.114414</td>\n",
       "      <td>27.503322</td>\n",
       "      <td>-15.344016</td>\n",
       "    </tr>\n",
       "    <tr>\n",
       "      <th>2</th>\n",
       "      <td>-18.840992</td>\n",
       "      <td>-1.463075</td>\n",
       "      <td>38.364922</td>\n",
       "      <td>-15.122405</td>\n",
       "    </tr>\n",
       "    <tr>\n",
       "      <th>3</th>\n",
       "      <td>64.808181</td>\n",
       "      <td>-10.960406</td>\n",
       "      <td>-0.460453</td>\n",
       "      <td>-10.458876</td>\n",
       "    </tr>\n",
       "    <tr>\n",
       "      <th>4</th>\n",
       "      <td>-20.217946</td>\n",
       "      <td>-6.795820</td>\n",
       "      <td>29.742263</td>\n",
       "      <td>-15.806795</td>\n",
       "    </tr>\n",
       "    <tr>\n",
       "      <th>5</th>\n",
       "      <td>2.882405</td>\n",
       "      <td>-4.903364</td>\n",
       "      <td>11.940388</td>\n",
       "      <td>-14.554659</td>\n",
       "    </tr>\n",
       "  </tbody>\n",
       "</table>\n",
       "</div>"
      ],
      "text/plain": [
       "SSN        DJF        JJA        MAM        SON\n",
       "RCH                                            \n",
       "1   -11.653700  -4.114414  27.503322 -15.344016\n",
       "2   -18.840992  -1.463075  38.364922 -15.122405\n",
       "3    64.808181 -10.960406  -0.460453 -10.458876\n",
       "4   -20.217946  -6.795820  29.742263 -15.806795\n",
       "5     2.882405  -4.903364  11.940388 -14.554659"
      ]
     },
     "execution_count": 7,
     "metadata": {},
     "output_type": "execute_result"
    }
   ],
   "source": [
    "pivoted_ch = (pivoted_fut - pivoted_bsl)/pivoted_bsl*100.0\n",
    "pivoted_ch.head()"
   ]
  },
  {
   "cell_type": "markdown",
   "metadata": {},
   "source": [
    "## 3. Visualize\n",
    "\n",
    "Set some parameters to make figure pretty"
   ]
  },
  {
   "cell_type": "code",
   "execution_count": 8,
   "metadata": {},
   "outputs": [],
   "source": [
    "# Plot size to 15\" x 7\"\n",
    "matplotlib.rc('figure', figsize = (15, 7))\n",
    "# Font size to 14\n",
    "matplotlib.rc('font', size = 14)\n",
    "# Display top and right frame lines\n",
    "matplotlib.rc('axes.spines', top = True, right = True)\n",
    "# Remove grid lines\n",
    "matplotlib.rc('axes', grid = False)\n",
    "# Set backgound color to white\n",
    "matplotlib.rc('axes', facecolor = 'white')"
   ]
  },
  {
   "cell_type": "code",
   "execution_count": 9,
   "metadata": {},
   "outputs": [
    {
     "data": {
      "text/plain": [
       "Text(0,0.5,'Runoff Change (%)')"
      ]
     },
     "execution_count": 9,
     "metadata": {},
     "output_type": "execute_result"
    },
    {
     "data": {
      "image/png": "[encoded data removed]",
      "text/plain": [
       "<Figure size 1080x504 with 1 Axes>"
      ]
     },
     "metadata": {},
     "output_type": "display_data"
    }
   ],
   "source": [
    "ax = pivoted_ch.plot(kind='bar',                    \n",
    "             title='Seasonal Mean Runoff Change between Baseline and Future Periods')\n",
    "ax.axhline(y=0, xmin=-1, xmax=1, color='k', lw=2)\n",
    "ax.set_ylabel('Runoff Change (%)')"
   ]
  },
  {
   "cell_type": "markdown",
   "metadata": {},
   "source": [
    "## References\n",
    "\n",
    "Fernando Pérez and Brian E. Granger. IPython: A System for Interactive Scientific Computing, Computing in Science & Engineering, 9, 21-29 (2007), DOI:10.1109/MCSE.2007.53\n",
    "\n",
    "John D. Hunter. Matplotlib: A 2D Graphics Environment, Computing in Science & Engineering, 9, 90-95 (2007), DOI:10.1109/MCSE.2007.55\n",
    "\n",
    "Wes McKinney. Data Structures for Statistical Computing in Python, Proceedings of the 9th Python in Science Conference, 51-56 (2010)\n",
    "\n",
    "https://www.sqlite.org/lang.html"
   ]
  },
  {
   "cell_type": "code",
   "execution_count": null,
   "metadata": {},
   "outputs": [],
   "source": []
  }
 ],
 "metadata": {
  "anaconda-cloud": {},
  "kernelspec": {
   "display_name": "Python [conda env:Anaconda2]",
   "language": "python",
   "name": "conda-env-Anaconda2-py"
  },
  "language_info": {
   "codemirror_mode": {
    "name": "ipython",
    "version": 2
   },
   "file_extension": ".py",
   "mimetype": "text/x-python",
   "name": "python",
   "nbconvert_exporter": "python",
   "pygments_lexer": "ipython2",
   "version": "2.7.12"
  }
 },
 "nbformat": 4,
 "nbformat_minor": 2
}
