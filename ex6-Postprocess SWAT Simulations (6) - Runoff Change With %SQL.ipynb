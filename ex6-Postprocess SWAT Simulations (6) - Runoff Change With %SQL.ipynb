{
 "cells": [
  {
   "cell_type": "markdown",
   "metadata": {},
   "source": [
    "## Postprocess SWAT Simulations (6) - Runoff Change With %SQL"
   ]
  },
  {
   "cell_type": "markdown",
   "metadata": {},
   "source": [
    "We already introduced how to post-process SWAT simulation by SQLite and Pandas in previous [notebooks](https://www.linkedin.com/pulse/postprocess-swat-simulations-sqlite-pandas-1-runoff-chonghua-yin/), where the SWAT simulations are stored in SQLite databases.\n",
    "\n",
    "In this notebook, we try to process the simulations using **ipython-sql**. That is to say, SQL from a notebooks, using magic commands to query a sqllite3 database. ipython-sql introduces a %sql (or %%sql) magic to your notebook allowing you to connect to a database, using SQLAlchemy connect strings, then issue SQL commands within IPython or IPython Notebook.\n",
    "\n",
    "You can install it using **pip install ipython-sql** or **conda install ipython-sql**.\n",
    "\n",
    "*It is worth noting that all data in this series are fake data and only are used to show how to post-process SWAT simulations through open source tools.*"
   ]
  },
  {
   "cell_type": "markdown",
   "metadata": {},
   "source": [
    "## 1. Load all needed libraries"
   ]
  },
  {
   "cell_type": "code",
   "execution_count": 1,
   "metadata": {},
   "outputs": [],
   "source": [
    "import pandas as pd\n",
    "import matplotlib.pyplot as plt\n",
    "import matplotlib\n",
    "\n",
    "%matplotlib inline"
   ]
  },
  {
   "cell_type": "markdown",
   "metadata": {},
   "source": [
    "## 2. Play ipython-sql\n",
    "\n",
    "### 2.1 Load ipython-sql library\n",
    "\n",
    "The ipython-sql library is loaded using the %load_ext iPython extension syntax. In addition, there are two kinds of magics line-oriented and cell-oriented prefaced with % and %% respectively."
   ]
  },
  {
   "cell_type": "code",
   "execution_count": 2,
   "metadata": {},
   "outputs": [],
   "source": [
    "%load_ext sql"
   ]
  },
  {
   "cell_type": "markdown",
   "metadata": {},
   "source": [
    "### 2.2 Connect to the database"
   ]
  },
  {
   "cell_type": "code",
   "execution_count": 3,
   "metadata": {},
   "outputs": [
    {
     "data": {
      "text/plain": [
       "u'Connected: @data/baseline/result_664_monthly.db3'"
      ]
     },
     "execution_count": 3,
     "metadata": {},
     "output_type": "execute_result"
    }
   ],
   "source": [
    "%sql sqlite:///data/baseline/result_664_monthly.db3"
   ]
  },
  {
   "cell_type": "markdown",
   "metadata": {},
   "source": [
    "### 2.3 Check tables"
   ]
  },
  {
   "cell_type": "code",
   "execution_count": 4,
   "metadata": {},
   "outputs": [
    {
     "name": "stdout",
     "output_type": "stream",
     "text": [
      " * sqlite:///data/baseline/result_664_monthly.db3\n",
      "Done.\n"
     ]
    },
    {
     "data": {
      "text/html": [
       "<table>\n",
       "    <tr>\n",
       "        <th>name</th>\n",
       "    </tr>\n",
       "    <tr>\n",
       "        <td>rch</td>\n",
       "    </tr>\n",
       "    <tr>\n",
       "        <td>hru</td>\n",
       "    </tr>\n",
       "    <tr>\n",
       "        <td>sub</td>\n",
       "    </tr>\n",
       "    <tr>\n",
       "        <td>sed</td>\n",
       "    </tr>\n",
       "    <tr>\n",
       "        <td>watershed_daily</td>\n",
       "    </tr>\n",
       "    <tr>\n",
       "        <td>watershed_monthly</td>\n",
       "    </tr>\n",
       "    <tr>\n",
       "        <td>watershed_yearly</td>\n",
       "    </tr>\n",
       "    <tr>\n",
       "        <td>channel_dimension</td>\n",
       "    </tr>\n",
       "    <tr>\n",
       "        <td>hru_info</td>\n",
       "    </tr>\n",
       "    <tr>\n",
       "        <td>sub_info</td>\n",
       "    </tr>\n",
       "    <tr>\n",
       "        <td>rch_info</td>\n",
       "    </tr>\n",
       "    <tr>\n",
       "        <td>ave_plant</td>\n",
       "    </tr>\n",
       "    <tr>\n",
       "        <td>ave_annual_hru</td>\n",
       "    </tr>\n",
       "    <tr>\n",
       "        <td>ave_monthly_basin</td>\n",
       "    </tr>\n",
       "    <tr>\n",
       "        <td>ave_annual_basin</td>\n",
       "    </tr>\n",
       "</table>"
      ],
      "text/plain": [
       "[(u'rch',),\n",
       " (u'hru',),\n",
       " (u'sub',),\n",
       " (u'sed',),\n",
       " (u'watershed_daily',),\n",
       " (u'watershed_monthly',),\n",
       " (u'watershed_yearly',),\n",
       " (u'channel_dimension',),\n",
       " (u'hru_info',),\n",
       " (u'sub_info',),\n",
       " (u'rch_info',),\n",
       " (u'ave_plant',),\n",
       " (u'ave_annual_hru',),\n",
       " (u'ave_monthly_basin',),\n",
       " (u'ave_annual_basin',)]"
      ]
     },
     "execution_count": 4,
     "metadata": {},
     "output_type": "execute_result"
    }
   ],
   "source": [
    "%sql SELECT name FROM sqlite_master WHERE type='table'"
   ]
  },
  {
   "cell_type": "markdown",
   "metadata": {},
   "source": [
    "### 2.4 Check table columns (i.e., header or fields)"
   ]
  },
  {
   "cell_type": "code",
   "execution_count": 5,
   "metadata": {},
   "outputs": [
    {
     "name": "stdout",
     "output_type": "stream",
     "text": [
      " * sqlite:///data/baseline/result_664_monthly.db3\n",
      "Done.\n"
     ]
    },
    {
     "data": {
      "text/html": [
       "<table>\n",
       "    <tr>\n",
       "        <th>RCH</th>\n",
       "        <th>YR</th>\n",
       "        <th>MO</th>\n",
       "        <th>FLOW_INcms</th>\n",
       "        <th>FLOW_OUTcms</th>\n",
       "        <th>EVAPcms</th>\n",
       "        <th>TLOSScms</th>\n",
       "        <th>SED_INtons</th>\n",
       "        <th>SED_OUTtons</th>\n",
       "        <th>SEDCONCmg_kg</th>\n",
       "        <th>ORGN_INkg</th>\n",
       "        <th>ORGN_OUTkg</th>\n",
       "        <th>ORGP_INkg</th>\n",
       "        <th>ORGP_OUTkg</th>\n",
       "        <th>NO3_INkg</th>\n",
       "        <th>NO3_OUTkg</th>\n",
       "        <th>NH4_INkg</th>\n",
       "        <th>NH4_OUTkg</th>\n",
       "        <th>NO2_INkg</th>\n",
       "        <th>NO2_OUTkg</th>\n",
       "        <th>MINP_INkg</th>\n",
       "        <th>MINP_OUTkg</th>\n",
       "        <th>CHLA_INkg</th>\n",
       "        <th>CHLA_OUTkg</th>\n",
       "        <th>CBOD_INkg</th>\n",
       "        <th>CBOD_OUTkg</th>\n",
       "        <th>DISOX_INkg</th>\n",
       "        <th>DISOX_OUTkg</th>\n",
       "        <th>SOLPST_INmg</th>\n",
       "        <th>SOLPST_OUTmg</th>\n",
       "        <th>SORPST_INmg</th>\n",
       "        <th>SORPST_OUTmg</th>\n",
       "        <th>REACTPSTmg</th>\n",
       "        <th>VOLPSTmg</th>\n",
       "        <th>SETTLPSTmg</th>\n",
       "        <th>RESUSP_PSTmg</th>\n",
       "        <th>DIFFUSEPSTmg</th>\n",
       "        <th>REACBEDPSTmg</th>\n",
       "        <th>BURYPSTmg</th>\n",
       "        <th>BED_PSTmg</th>\n",
       "        <th>BACTP_OUTct</th>\n",
       "        <th>BACTLP_OUTct</th>\n",
       "        <th>CMETAL_1kg</th>\n",
       "        <th>CMETAL_2kg</th>\n",
       "        <th>CMETAL_3kg</th>\n",
       "        <th>TOT_Nkg</th>\n",
       "        <th>TOT_Pkg</th>\n",
       "        <th>NO3ConcMg_l</th>\n",
       "        <th>WTMPdegc</th>\n",
       "    </tr>\n",
       "</table>"
      ],
      "text/plain": [
       "[]"
      ]
     },
     "execution_count": 5,
     "metadata": {},
     "output_type": "execute_result"
    }
   ],
   "source": [
    "%sql select * from rch where 1=0"
   ]
  },
  {
   "cell_type": "markdown",
   "metadata": {},
   "source": [
    "### 2.5 Query table\n",
    "\n",
    "Take the **rch** table as example. We can put the query result into variable."
   ]
  },
  {
   "cell_type": "code",
   "execution_count": 6,
   "metadata": {},
   "outputs": [
    {
     "name": "stdout",
     "output_type": "stream",
     "text": [
      " * sqlite:///data/baseline/result_664_monthly.db3\n",
      "Done.\n"
     ]
    },
    {
     "data": {
      "text/html": [
       "<table>\n",
       "    <tr>\n",
       "        <th>RCH</th>\n",
       "        <th>YR</th>\n",
       "        <th>MO</th>\n",
       "        <th>FLOW_OUTcms</th>\n",
       "    </tr>\n",
       "    <tr>\n",
       "        <td>1</td>\n",
       "        <td>1981</td>\n",
       "        <td>1</td>\n",
       "        <td>146.252487183</td>\n",
       "    </tr>\n",
       "    <tr>\n",
       "        <td>2</td>\n",
       "        <td>1981</td>\n",
       "        <td>1</td>\n",
       "        <td>96.1828536987</td>\n",
       "    </tr>\n",
       "    <tr>\n",
       "        <td>3</td>\n",
       "        <td>1981</td>\n",
       "        <td>1</td>\n",
       "        <td>11.8613681793</td>\n",
       "    </tr>\n",
       "    <tr>\n",
       "        <td>4</td>\n",
       "        <td>1981</td>\n",
       "        <td>1</td>\n",
       "        <td>49.4065132141</td>\n",
       "    </tr>\n",
       "    <tr>\n",
       "        <td>5</td>\n",
       "        <td>1981</td>\n",
       "        <td>1</td>\n",
       "        <td>272.106018066</td>\n",
       "    </tr>\n",
       "</table>"
      ],
      "text/plain": [
       "[(1, 1981, 1, 146.2524871826172),\n",
       " (2, 1981, 1, 96.18285369873047),\n",
       " (3, 1981, 1, 11.861368179321289),\n",
       " (4, 1981, 1, 49.40651321411133),\n",
       " (5, 1981, 1, 272.10601806640625)]"
      ]
     },
     "execution_count": 6,
     "metadata": {},
     "output_type": "execute_result"
    }
   ],
   "source": [
    "sqlres = %sql SELECT RCH, YR, MO, FLOW_OUTcms from rch LIMIT 5\n",
    "sqlres"
   ]
  },
  {
   "cell_type": "markdown",
   "metadata": {},
   "source": [
    "## 3. Process runoff\n",
    "\n",
    "Two key steps: \n",
    "- (1) convert month to season\n",
    "- (2) calculate seasonal mean\n",
    "\n",
    "Therefore, a nested sql query is applied.\n",
    "\n",
    "### 3.1 Baseline\n",
    "**Connect to baseline db**"
   ]
  },
  {
   "cell_type": "code",
   "execution_count": 7,
   "metadata": {},
   "outputs": [
    {
     "data": {
      "text/plain": [
       "u'Connected: @data/baseline/result_664_monthly.db3'"
      ]
     },
     "execution_count": 7,
     "metadata": {},
     "output_type": "execute_result"
    }
   ],
   "source": [
    "%sql sqlite:///data/baseline/result_664_monthly.db3"
   ]
  },
  {
   "cell_type": "markdown",
   "metadata": {},
   "source": [
    "** Calculate seasonal mean for each season**"
   ]
  },
  {
   "cell_type": "code",
   "execution_count": 8,
   "metadata": {},
   "outputs": [
    {
     "name": "stdout",
     "output_type": "stream",
     "text": [
      " * sqlite:///data/baseline/result_664_monthly.db3\n",
      "Done.\n",
      "Returning data to local variable BASE_SSN\n"
     ]
    }
   ],
   "source": [
    "%%sql BASE_SSN << \n",
    "SELECT RCH, Quarter, AVG(FLOW_OUTcms) as Runoff\n",
    "FROM(\n",
    "SELECT RCH, YR, \n",
    "CASE \n",
    "    WHEN (MO) BETWEEN 3 AND 5 THEN 'MAM'   \n",
    "    WHEN (MO) BETWEEN 6 and 8 THEN 'JJA'\n",
    "    WHEN (MO) BETWEEN 9 and 11 THEN 'SON'\n",
    "    ELSE 'DJF' \n",
    "END Quarter,\n",
    "FLOW_OUTcms\n",
    "from rch)\n",
    "GROUP BY RCH, Quarter"
   ]
  },
  {
   "cell_type": "markdown",
   "metadata": {},
   "source": [
    "### 3.2 Future\n",
    "**Connect to future db**"
   ]
  },
  {
   "cell_type": "code",
   "execution_count": 9,
   "metadata": {},
   "outputs": [
    {
     "data": {
      "text/plain": [
       "u'Connected: @data/future/result_664_monthly.db3'"
      ]
     },
     "execution_count": 9,
     "metadata": {},
     "output_type": "execute_result"
    }
   ],
   "source": [
    "%sql sqlite:///data/future/result_664_monthly.db3"
   ]
  },
  {
   "cell_type": "markdown",
   "metadata": {},
   "source": [
    "** Calculate seasonal mean for each season**"
   ]
  },
  {
   "cell_type": "code",
   "execution_count": 10,
   "metadata": {},
   "outputs": [
    {
     "name": "stdout",
     "output_type": "stream",
     "text": [
      "   sqlite:///data/baseline/result_664_monthly.db3\n",
      " * sqlite:///data/future/result_664_monthly.db3\n",
      "Done.\n",
      "Returning data to local variable FUTU_SSN\n"
     ]
    }
   ],
   "source": [
    "%%sql FUTU_SSN << \n",
    "SELECT RCH, Quarter, AVG(FLOW_OUTcms) as Runoff\n",
    "FROM(\n",
    "SELECT RCH, YR, \n",
    "CASE \n",
    "    WHEN (MO) BETWEEN 3 AND 5 THEN 'MAM'   \n",
    "    WHEN (MO) BETWEEN 6 and 8 THEN 'JJA'\n",
    "    WHEN (MO) BETWEEN 9 and 11 THEN 'SON'\n",
    "    ELSE 'DJF' \n",
    "END Quarter,\n",
    "FLOW_OUTcms\n",
    "from rch)\n",
    "GROUP BY RCH, Quarter"
   ]
  },
  {
   "cell_type": "code",
   "execution_count": 11,
   "metadata": {},
   "outputs": [
    {
     "data": {
      "text/html": [
       "<div>\n",
       "<style scoped>\n",
       "    .dataframe tbody tr th:only-of-type {\n",
       "        vertical-align: middle;\n",
       "    }\n",
       "\n",
       "    .dataframe tbody tr th {\n",
       "        vertical-align: top;\n",
       "    }\n",
       "\n",
       "    .dataframe thead th {\n",
       "        text-align: right;\n",
       "    }\n",
       "</style>\n",
       "<table border=\"1\" class=\"dataframe\">\n",
       "  <thead>\n",
       "    <tr style=\"text-align: right;\">\n",
       "      <th></th>\n",
       "      <th>RCH</th>\n",
       "      <th>Quarter</th>\n",
       "      <th>Runoff</th>\n",
       "    </tr>\n",
       "  </thead>\n",
       "  <tbody>\n",
       "    <tr>\n",
       "      <th>0</th>\n",
       "      <td>1</td>\n",
       "      <td>DJF</td>\n",
       "      <td>87.643939</td>\n",
       "    </tr>\n",
       "    <tr>\n",
       "      <th>1</th>\n",
       "      <td>1</td>\n",
       "      <td>JJA</td>\n",
       "      <td>1347.443983</td>\n",
       "    </tr>\n",
       "    <tr>\n",
       "      <th>2</th>\n",
       "      <td>1</td>\n",
       "      <td>MAM</td>\n",
       "      <td>713.695934</td>\n",
       "    </tr>\n",
       "    <tr>\n",
       "      <th>3</th>\n",
       "      <td>1</td>\n",
       "      <td>SON</td>\n",
       "      <td>384.962918</td>\n",
       "    </tr>\n",
       "    <tr>\n",
       "      <th>4</th>\n",
       "      <td>2</td>\n",
       "      <td>DJF</td>\n",
       "      <td>45.715684</td>\n",
       "    </tr>\n",
       "  </tbody>\n",
       "</table>\n",
       "</div>"
      ],
      "text/plain": [
       "   RCH Quarter       Runoff\n",
       "0    1     DJF    87.643939\n",
       "1    1     JJA  1347.443983\n",
       "2    1     MAM   713.695934\n",
       "3    1     SON   384.962918\n",
       "4    2     DJF    45.715684"
      ]
     },
     "execution_count": 11,
     "metadata": {},
     "output_type": "execute_result"
    }
   ],
   "source": [
    "df = FUTU_SSN.DataFrame()\n",
    "df.head()"
   ]
  },
  {
   "cell_type": "markdown",
   "metadata": {},
   "source": [
    "### 3.3 Convert to DataFrame\n",
    "\n",
    "To simplify other operations, convert sql-query results into pivoted table"
   ]
  },
  {
   "cell_type": "code",
   "execution_count": 12,
   "metadata": {},
   "outputs": [],
   "source": [
    "def convert_pivoted(sql_ssn):\n",
    "    ssndf = sql_ssn.DataFrame()\n",
    "    ssndf.set_index(['RCH'])\n",
    "    ssndf = ssndf.rename(index=str, columns={\"level_1\":\"Quarter\"})\n",
    "    pivoted = ssndf.pivot(index='RCH', columns='Quarter', values='Runoff')\n",
    "    return pivoted"
   ]
  },
  {
   "cell_type": "code",
   "execution_count": 13,
   "metadata": {},
   "outputs": [
    {
     "name": "stdout",
     "output_type": "stream",
     "text": [
      "Quarter         DJF          JJA          MAM         SON\n",
      "RCH                                                      \n",
      "1         87.643939  1347.443983   713.695934  384.962918\n",
      "2         45.715684   762.344993   281.216780  252.879492\n",
      "3         54.120251   148.082089   378.022691   24.557090\n",
      "4         22.645753   577.105851   361.976762  131.144510\n",
      "5        346.533086  1555.323420  1360.550300  426.599176\n",
      "Quarter         DJF          JJA          MAM         SON\n",
      "RCH                                                      \n",
      "1         99.204991  1405.262298   559.746932  454.737985\n",
      "2         56.328539   773.664280   203.242828  297.934326\n",
      "3         32.838328   166.310382   379.771358   27.425488\n",
      "4         28.384519   619.184517   278.996801  155.766145\n",
      "5        336.824441  1635.518864  1215.423962  499.265579\n"
     ]
    }
   ],
   "source": [
    "pivoted_bsl = convert_pivoted(BASE_SSN)\n",
    "pivoted_fut = convert_pivoted(FUTU_SSN)\n",
    "print(pivoted_fut.head())\n",
    "print(pivoted_bsl.head())"
   ]
  },
  {
   "cell_type": "markdown",
   "metadata": {},
   "source": [
    "### 3.4 Calculate seasonal changes"
   ]
  },
  {
   "cell_type": "code",
   "execution_count": 14,
   "metadata": {},
   "outputs": [
    {
     "data": {
      "text/html": [
       "<div>\n",
       "<style scoped>\n",
       "    .dataframe tbody tr th:only-of-type {\n",
       "        vertical-align: middle;\n",
       "    }\n",
       "\n",
       "    .dataframe tbody tr th {\n",
       "        vertical-align: top;\n",
       "    }\n",
       "\n",
       "    .dataframe thead th {\n",
       "        text-align: right;\n",
       "    }\n",
       "</style>\n",
       "<table border=\"1\" class=\"dataframe\">\n",
       "  <thead>\n",
       "    <tr style=\"text-align: right;\">\n",
       "      <th>Quarter</th>\n",
       "      <th>DJF</th>\n",
       "      <th>JJA</th>\n",
       "      <th>MAM</th>\n",
       "      <th>SON</th>\n",
       "    </tr>\n",
       "    <tr>\n",
       "      <th>RCH</th>\n",
       "      <th></th>\n",
       "      <th></th>\n",
       "      <th></th>\n",
       "      <th></th>\n",
       "    </tr>\n",
       "  </thead>\n",
       "  <tbody>\n",
       "    <tr>\n",
       "      <th>1</th>\n",
       "      <td>-11.653700</td>\n",
       "      <td>-4.114414</td>\n",
       "      <td>27.503322</td>\n",
       "      <td>-15.344016</td>\n",
       "    </tr>\n",
       "    <tr>\n",
       "      <th>2</th>\n",
       "      <td>-18.840992</td>\n",
       "      <td>-1.463075</td>\n",
       "      <td>38.364922</td>\n",
       "      <td>-15.122405</td>\n",
       "    </tr>\n",
       "    <tr>\n",
       "      <th>3</th>\n",
       "      <td>64.808181</td>\n",
       "      <td>-10.960406</td>\n",
       "      <td>-0.460453</td>\n",
       "      <td>-10.458876</td>\n",
       "    </tr>\n",
       "    <tr>\n",
       "      <th>4</th>\n",
       "      <td>-20.217946</td>\n",
       "      <td>-6.795820</td>\n",
       "      <td>29.742263</td>\n",
       "      <td>-15.806795</td>\n",
       "    </tr>\n",
       "    <tr>\n",
       "      <th>5</th>\n",
       "      <td>2.882405</td>\n",
       "      <td>-4.903364</td>\n",
       "      <td>11.940388</td>\n",
       "      <td>-14.554659</td>\n",
       "    </tr>\n",
       "  </tbody>\n",
       "</table>\n",
       "</div>"
      ],
      "text/plain": [
       "Quarter        DJF        JJA        MAM        SON\n",
       "RCH                                                \n",
       "1       -11.653700  -4.114414  27.503322 -15.344016\n",
       "2       -18.840992  -1.463075  38.364922 -15.122405\n",
       "3        64.808181 -10.960406  -0.460453 -10.458876\n",
       "4       -20.217946  -6.795820  29.742263 -15.806795\n",
       "5         2.882405  -4.903364  11.940388 -14.554659"
      ]
     },
     "execution_count": 14,
     "metadata": {},
     "output_type": "execute_result"
    }
   ],
   "source": [
    "pivoted_ch = (pivoted_fut - pivoted_bsl)/pivoted_bsl*100.0\n",
    "pivoted_ch.head()"
   ]
  },
  {
   "cell_type": "markdown",
   "metadata": {},
   "source": [
    "## 4. Visualize\n",
    "\n",
    "Set some parameters to make figure pretty"
   ]
  },
  {
   "cell_type": "code",
   "execution_count": 15,
   "metadata": {},
   "outputs": [
    {
     "data": {
      "text/plain": [
       "Text(0,0.5,'Runoff Change (%)')"
      ]
     },
     "execution_count": 15,
     "metadata": {},
     "output_type": "execute_result"
    },
    {
     "data": {
      "image/png": "[encoded data removed]",
      "text/plain": [
       "<Figure size 936x432 with 1 Axes>"
      ]
     },
     "metadata": {},
     "output_type": "display_data"
    }
   ],
   "source": [
    "# Plot size to 15\" x 7\"\n",
    "matplotlib.rc('figure', figsize = (13, 6))\n",
    "# Font size to 14\n",
    "matplotlib.rc('font', size = 14)\n",
    "# Display top and right frame lines\n",
    "matplotlib.rc('axes.spines', top = True, right = True)\n",
    "# Remove grid lines\n",
    "matplotlib.rc('axes', grid = False)\n",
    "# Set backgound color to white\n",
    "matplotlib.rc('axes', facecolor = 'white')\n",
    "\n",
    "ax = pivoted_ch.plot(kind='bar',                    \n",
    "             title='Seasonal Mean Runoff Change between Baseline and Future Periods')\n",
    "ax.axhline(y=0, xmin=-1, xmax=1, color='k', lw=2)\n",
    "ax.set_ylabel('Runoff Change (%)')"
   ]
  },
  {
   "cell_type": "markdown",
   "metadata": {},
   "source": [
    "## References\n",
    "\n",
    "Fernando Pérez and Brian E. Granger. IPython: A System for Interactive Scientific Computing, Computing in Science & Engineering, 9, 21-29 (2007), DOI:10.1109/MCSE.2007.53\n",
    "\n",
    "John D. Hunter. Matplotlib: A 2D Graphics Environment, Computing in Science & Engineering, 9, 90-95 (2007), DOI:10.1109/MCSE.2007.55\n",
    "\n",
    "Wes McKinney. Data Structures for Statistical Computing in Python, Proceedings of the 9th Python in Science Conference, 51-56 (2010)\n",
    "\n",
    "https://www.sqlite.org/lang.html"
   ]
  },
  {
   "cell_type": "code",
   "execution_count": null,
   "metadata": {},
   "outputs": [],
   "source": []
  }
 ],
 "metadata": {
  "anaconda-cloud": {},
  "kernelspec": {
   "display_name": "Python [conda env:Anaconda2]",
   "language": "python",
   "name": "conda-env-Anaconda2-py"
  },
  "language_info": {
   "codemirror_mode": {
    "name": "ipython",
    "version": 2
   },
   "file_extension": ".py",
   "mimetype": "text/x-python",
   "name": "python",
   "nbconvert_exporter": "python",
   "pygments_lexer": "ipython2",
   "version": "2.7.12"
  }
 },
 "nbformat": 4,
 "nbformat_minor": 2
}
